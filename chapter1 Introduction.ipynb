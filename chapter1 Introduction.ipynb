{
 "cells": [
  {
   "cell_type": "markdown",
   "metadata": {},
   "source": [
    "# Python Tutorial – Learn Python and be above par"
   ]
  },
  {
   "cell_type": "markdown",
   "metadata": {},
   "source": [
    "## Talking about this Python tutorial, here is a quick overview-"
   ]
  },
  {
   "cell_type": "markdown",
   "metadata": {},
   "source": [
    "1: What is Python?\n",
    "\n",
    "2: History\n",
    "\n",
    "3: Constructs\n",
    "\n",
    "4: Features\n",
    "\n",
    "5: Frameworks\n",
    "\n",
    "6: Flavors\n",
    "\n",
    "7: File Extensions\n",
    "\n",
    "8: Applications\n",
    "\n",
    "9: Installation\n",
    "\n",
    "10: Python vs Java vs C++"
   ]
  },
  {
   "cell_type": "code",
   "execution_count": null,
   "metadata": {},
   "outputs": [],
   "source": []
  }
 ],
 "metadata": {
  "kernelspec": {
   "display_name": "Python 3",
   "language": "python",
   "name": "python3"
  },
  "language_info": {
   "codemirror_mode": {
    "name": "ipython",
    "version": 3
   },
   "file_extension": ".py",
   "mimetype": "text/x-python",
   "name": "python",
   "nbconvert_exporter": "python",
   "pygments_lexer": "ipython3",
   "version": "3.7.4"
  }
 },
 "nbformat": 4,
 "nbformat_minor": 2
}
