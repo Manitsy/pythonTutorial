{
 "cells": [
  {
   "cell_type": "markdown",
   "metadata": {},
   "source": [
    "# Python Pandas Tutorial "
   ]
  },
  {
   "cell_type": "markdown",
   "metadata": {},
   "source": [
    "Pandas play an important role in Data Science. This python pandas tutorial helps to build skills for data scientist and data analyst."
   ]
  },
  {
   "attachments": {},
   "cell_type": "markdown",
   "metadata": {},
   "source": [
    "![Pandas-Tutorial-01.jpg](image/Pandas-Tutorial-01.jpg)"
   ]
  },
  {
   "cell_type": "markdown",
   "metadata": {},
   "source": [
    "## 1. What is Pandas?"
   ]
  },
  {
   "cell_type": "markdown",
   "metadata": {},
   "source": [
    "Data is an integral part of our current world. It helps us predict various events and gives a certain direction to our lives. Panda help us control and manipulate such data. "
   ]
  },
  {
   "cell_type": "markdown",
   "metadata": {},
   "source": [
    "Panda provide essential data structure like \n",
    "1. Series,\n",
    "2. dataframes\n",
    "3. panels"
   ]
  },
  {
   "cell_type": "markdown",
   "metadata": {},
   "source": [
    "Pandas process the power to perform various tasks. Whether it is computing tasks like finding the mean, median, and mode of data or a task of handling large csv files and manipulating the contents according to our will, pandas can do it all. "
   ]
  },
  {
   "cell_type": "markdown",
   "metadata": {},
   "source": [
    "## 2. How to Install Pandas?"
   ]
  },
  {
   "cell_type": "markdown",
   "metadata": {},
   "source": [
    "### 2.1 Install Pandas with Anaconda"
   ]
  },
  {
   "cell_type": "markdown",
   "metadata": {},
   "source": [
    "### 2.2 Install Pandas with pip"
   ]
  },
  {
   "cell_type": "markdown",
   "metadata": {},
   "source": [
    "pip install pandas"
   ]
  },
  {
   "cell_type": "markdown",
   "metadata": {},
   "source": [
    "## 3. Key Components of Pandas"
   ]
  },
  {
   "cell_type": "markdown",
   "metadata": {},
   "source": [
    "<b>Pandas Series</b>  : A series in Pandas can be thought of as a unidimensional array that is used to handle and manipulate data which is stored in it."
   ]
  },
  {
   "cell_type": "markdown",
   "metadata": {},
   "source": [
    "<b>Pandas DataFrame </b> This is a data structure in pandas, which is made up of multiple series. Mainly, a Pandas DataFrame can be compared to a two-dimensional array. These are heavily used to store and manipulate data."
   ]
  },
  {
   "cell_type": "markdown",
   "metadata": {},
   "source": [
    "## 4. Pandas Library Architecture"
   ]
  },
  {
   "cell_type": "markdown",
   "metadata": {},
   "source": [
    "This python panda tutorial is incomplete without library architecture. So, lets discuss the file hierarchy in pandas."
   ]
  },
  {
   "attachments": {},
   "cell_type": "markdown",
   "metadata": {},
   "source": [
    "![Pandas-Library-Architecture-01.jpg](image/Pandas-Library-Architecture-01.jpg)"
   ]
  },
  {
   "cell_type": "markdown",
   "metadata": {},
   "source": [
    "1. <b>pandas/core:</b> Consists of data structures about the Pandas library.\n",
    "2. <b>pandas/src:</b> Holds the basic functionality of Pandas depend on certain algorithms. They are usually written in C or Cython.\n",
    "3. <b>pandas/io:</b> Carries the tools to input and output, files, data, etc\n",
    "4. <b>pandas/tools:</b> Codes and algorithms for various functions and operations in Pandas. For example: Merge and join, concatenation, etc.\n",
    "5. <b>pandas/sparse:</b> Carries the sparse versions, i.e., the versions made to handle missing values of various Data Structures in Pandas.\n",
    "6. <b>pandas/stats:</b> Contains functions related to statistics, like linear regression\n",
    "7. <b>pandas/util:</b> Consist of testing tools and various other utilities to debug the library.\n",
    "8. <b>pandas/rpy:</b> Consists of an interface which helps to connect to R. It is called R2Py"
   ]
  },
  {
   "cell_type": "markdown",
   "metadata": {},
   "source": [
    "## 5. Python Pandas Operations"
   ]
  },
  {
   "cell_type": "markdown",
   "metadata": {},
   "source": [
    "In this part of the python pandas tutorial, we are going to perform some of the important functions and operations used in pandas -"
   ]
  },
  {
   "cell_type": "markdown",
   "metadata": {},
   "source": [
    "### 5.1 Slicing"
   ]
  },
  {
   "cell_type": "markdown",
   "metadata": {},
   "source": [
    "Slice or cut DataFrames to get parts of data according to your wish. It helps in filtering out the data which is essential."
   ]
  },
  {
   "cell_type": "markdown",
   "metadata": {},
   "source": [
    "Example : if we have a series data structure called \"ser\" consisting of [1,4,6,7,3,8]\n",
    "    \n",
    "  Then with the command ser[0:3] we can slice the data set to give the first three items [1,4,6 ]"
   ]
  },
  {
   "cell_type": "markdown",
   "metadata": {},
   "source": [
    "### 5.2 Merging and Joining"
   ]
  },
  {
   "cell_type": "markdown",
   "metadata": {},
   "source": [
    "Merging, as the name says, helps to merge multiple datasets. One can even choose column which they want to keep common between two sets. But merging can only work columnwise. To add index-wise we use Join."
   ]
  },
  {
   "cell_type": "markdown",
   "metadata": {},
   "source": [
    "<b>Example</b>"
   ]
  },
  {
   "attachments": {},
   "cell_type": "markdown",
   "metadata": {},
   "source": [
    "If set A is : \n",
    "    ![Example-of-merging-in-Pandas.png](image/Example-of-merging-in-Pandas.png)"
   ]
  },
  {
   "attachments": {},
   "cell_type": "markdown",
   "metadata": {},
   "source": [
    "And set B is :\n",
    "![Example-of-Merging-dataframes-in-Pandas.png](image/Example-of-Merging-dataframes-in-Pandas.png)"
   ]
  },
  {
   "attachments": {},
   "cell_type": "markdown",
   "metadata": {},
   "source": [
    "On merging them we get:\n",
    "![result-of-merging-in-Pandas.png](image/result-of-merging-in-Pandas.png)"
   ]
  },
  {
   "cell_type": "markdown",
   "metadata": {},
   "source": [
    "### 5.3 Concatenation"
   ]
  },
  {
   "cell_type": "markdown",
   "metadata": {},
   "source": [
    "Pandas concatenation basically sticks two datasets to form one, row-wise\n",
    "\n"
   ]
  },
  {
   "attachments": {},
   "cell_type": "markdown",
   "metadata": {},
   "source": [
    "Let set A\n",
    "![Set-A-of-Concatenation-in-Pandas.png](image/Set-A-of-Concatenation-in-Pandas.png)"
   ]
  },
  {
   "attachments": {},
   "cell_type": "markdown",
   "metadata": {},
   "source": [
    "And set B\n",
    "![Set-B-of-Concatenation-in-Pandas.png](image/Set-B-of-Concatenation-in-Pandas.png)"
   ]
  },
  {
   "attachments": {},
   "cell_type": "markdown",
   "metadata": {},
   "source": [
    "After concatenation:\n",
    "\n",
    "![Output-of-Concatenation-in-pandas.png](image/Output-of-Concatenation-in-pandas.png)"
   ]
  },
  {
   "cell_type": "markdown",
   "metadata": {},
   "source": [
    "### 5.4 Index changing"
   ]
  },
  {
   "cell_type": "markdown",
   "metadata": {},
   "source": [
    "We can change the index of any dataframe. This will help us to manipulate better.\n"
   ]
  },
  {
   "attachments": {},
   "cell_type": "markdown",
   "metadata": {},
   "source": [
    "![Example-of-Indexing-Changing.png](image/Example-of-Indexing-Changing.png)"
   ]
  },
  {
   "cell_type": "markdown",
   "metadata": {},
   "source": [
    "In this data set, we can choose the index column to be any of the columns. Like “Item no” and index it."
   ]
  },
  {
   "cell_type": "markdown",
   "metadata": {},
   "source": [
    "![Output-of-Indexing-changing-in-Pandas.png](image/Output-of-Indexing-changing-in-Pandas.png)"
   ]
  },
  {
   "cell_type": "code",
   "execution_count": null,
   "metadata": {},
   "outputs": [],
   "source": []
  },
  {
   "cell_type": "code",
   "execution_count": null,
   "metadata": {},
   "outputs": [],
   "source": []
  }
 ],
 "metadata": {
  "kernelspec": {
   "display_name": "Python 3",
   "language": "python",
   "name": "python3"
  },
  "language_info": {
   "codemirror_mode": {
    "name": "ipython",
    "version": 3
   },
   "file_extension": ".py",
   "mimetype": "text/x-python",
   "name": "python",
   "nbconvert_exporter": "python",
   "pygments_lexer": "ipython3",
   "version": "3.7.4"
  }
 },
 "nbformat": 4,
 "nbformat_minor": 2
}
