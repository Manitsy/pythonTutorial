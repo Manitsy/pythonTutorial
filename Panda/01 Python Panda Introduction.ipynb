{
 "cells": [
  {
   "cell_type": "markdown",
   "metadata": {},
   "source": [
    "# Python Pandas Tutorial "
   ]
  },
  {
   "cell_type": "markdown",
   "metadata": {},
   "source": [
    "Pandas play an important role in Data Science. This python pandas tutorial helps to build skills for data scientist and data analyst."
   ]
  },
  {
   "cell_type": "markdown",
   "metadata": {},
   "source": [
    "![Pandas-Tutorial-01.jpg](image/Pandas-Tutorial-01.jpg)"
   ]
  },
  {
   "cell_type": "markdown",
   "metadata": {},
   "source": [
    "## 1. What is Pandas?"
   ]
  },
  {
   "cell_type": "markdown",
   "metadata": {},
   "source": [
    "Data is an integral part of our current world. It helps us predict various events and gives a certain direction to our lives. Panda help us control and manipulate such data. "
   ]
  },
  {
   "cell_type": "markdown",
   "metadata": {},
   "source": [
    "Panda provide essential data structure like \n",
    "1. Series,\n",
    "2. dataframes\n",
    "3. panels"
   ]
  },
  {
   "cell_type": "markdown",
   "metadata": {},
   "source": [
    "Pandas process the power to perform various tasks. Whether it is computing tasks like finding the mean, median, and mode of data or a task of handling large csv files and manipulating the contents according to our will, pandas can do it all. "
   ]
  },
  {
   "cell_type": "markdown",
   "metadata": {},
   "source": [
    "## 2. How to Install Pandas?"
   ]
  },
  {
   "cell_type": "markdown",
   "metadata": {},
   "source": [
    "### 2.1 Install Pandas with Anaconda"
   ]
  },
  {
   "cell_type": "markdown",
   "metadata": {},
   "source": [
    "### 2.2 Install Pandas with pip"
   ]
  },
  {
   "cell_type": "markdown",
   "metadata": {},
   "source": [
    "pip install pandas"
   ]
  },
  {
   "cell_type": "markdown",
   "metadata": {},
   "source": [
    "## 3. Key Components of Pandas"
   ]
  },
  {
   "cell_type": "markdown",
   "metadata": {},
   "source": [
    "<b>Pandas Series</b>  : A series in Pandas can be thought of as a unidimensional array that is used to handle and manipulate data which is stored in it."
   ]
  },
  {
   "cell_type": "markdown",
   "metadata": {},
   "source": [
    "<b>Pandas DataFrame </b> This is a data structure in pandas, which is made up of multiple series. Mainly, a Pandas DataFrame can be compared to a two-dimensional array. These are heavily used to store and manipulate data."
   ]
  },
  {
   "cell_type": "markdown",
   "metadata": {},
   "source": [
    "## 4. Pandas Library Architecture"
   ]
  },
  {
   "cell_type": "markdown",
   "metadata": {},
   "source": [
    "This python panda tutorial is incomplete without library architecture. So, lets discuss the file hierarchy in pandas."
   ]
  },
  {
   "cell_type": "markdown",
   "metadata": {},
   "source": [
    "![Pandas-Library-Architecture-01.jpg](image/Pandas-Library-Architecture-01.jpg)"
   ]
  },
  {
   "cell_type": "markdown",
   "metadata": {},
   "source": [
    "1. <b>pandas/core:</b> Consists of data structures about the Pandas library.\n",
    "2. <b>pandas/src:</b> Holds the basic functionality of Pandas depend on certain algorithms. They are usually written in C or Cython.\n",
    "3. <b>pandas/io:</b> Carries the tools to input and output, files, data, etc\n",
    "4. <b>pandas/tools:</b> Codes and algorithms for various functions and operations in Pandas. For example: Merge and join, concatenation, etc.\n",
    "5. <b>pandas/sparse:</b> Carries the sparse versions, i.e., the versions made to handle missing values of various Data Structures in Pandas.\n",
    "6. <b>pandas/stats:</b> Contains functions related to statistics, like linear regression\n",
    "7. <b>pandas/util:</b> Consist of testing tools and various other utilities to debug the library.\n",
    "8. <b>pandas/rpy:</b> Consists of an interface which helps to connect to R. It is called R2Py"
   ]
  },
  {
   "cell_type": "markdown",
   "metadata": {},
   "source": [
    "## 5. Python Pandas Operations"
   ]
  },
  {
   "cell_type": "markdown",
   "metadata": {},
   "source": [
    "In this part of the python pandas tutorial, we are going to perform some of the important functions and operations used in pandas -"
   ]
  },
  {
   "cell_type": "markdown",
   "metadata": {},
   "source": [
    "### 5.1 Slicing"
   ]
  },
  {
   "cell_type": "markdown",
   "metadata": {},
   "source": [
    "Slice or cut DataFrames to get parts of data according to your wish. It helps in filtering out the data which is essential."
   ]
  },
  {
   "cell_type": "markdown",
   "metadata": {},
   "source": [
    "Example : if we have a series data structure called \"ser\" consisting of [1,4,6,7,3,8]\n",
    "    \n",
    "  Then with the command ser[0:3] we can slice the data set to give the first three items [1,4,6 ]"
   ]
  },
  {
   "cell_type": "markdown",
   "metadata": {},
   "source": [
    "### 5.2 Merging and Joining"
   ]
  },
  {
   "cell_type": "markdown",
   "metadata": {},
   "source": [
    "Merging, as the name says, helps to merge multiple datasets. One can even choose column which they want to keep common between two sets. But merging can only work columnwise. To add index-wise we use Join."
   ]
  },
  {
   "cell_type": "markdown",
   "metadata": {},
   "source": [
    "<b>Example</b>"
   ]
  },
  {
   "cell_type": "markdown",
   "metadata": {},
   "source": [
    "If set A is : \n",
    "    ![Example-of-merging-in-Pandas.png](image/Example-of-merging-in-Pandas.png)"
   ]
  },
  {
   "cell_type": "markdown",
   "metadata": {},
   "source": [
    "And set B is :\n",
    "![Example-of-Merging-dataframes-in-Pandas.png](image/Example-of-Merging-dataframes-in-Pandas.png)"
   ]
  },
  {
   "cell_type": "markdown",
   "metadata": {},
   "source": [
    "On merging them we get:\n",
    "![result-of-merging-in-Pandas.png](image/result-of-merging-in-Pandas.png)"
   ]
  },
  {
   "cell_type": "markdown",
   "metadata": {},
   "source": [
    "### 5.3 Concatenation"
   ]
  },
  {
   "cell_type": "markdown",
   "metadata": {},
   "source": [
    "Pandas concatenation basically sticks two datasets to form one, row-wise\n",
    "\n"
   ]
  },
  {
   "cell_type": "markdown",
   "metadata": {},
   "source": [
    "Let set A\n",
    "![Set-A-of-Concatenation-in-Pandas.png](image/Set-A-of-Concatenation-in-Pandas.png)"
   ]
  },
  {
   "cell_type": "markdown",
   "metadata": {},
   "source": [
    "And set B\n",
    "![Set-B-of-Concatenation-in-Pandas.png](image/Set-B-of-Concatenation-in-Pandas.png)"
   ]
  },
  {
   "cell_type": "markdown",
   "metadata": {},
   "source": [
    "After concatenation:\n",
    "\n",
    "![Output-of-Concatenation-in-pandas.png](image/Output-of-Concatenation-in-pandas.png)"
   ]
  },
  {
   "cell_type": "markdown",
   "metadata": {},
   "source": [
    "### 5.4 Index changing"
   ]
  },
  {
   "cell_type": "markdown",
   "metadata": {},
   "source": [
    "We can change the index of any dataframe. This will help us to manipulate better.\n"
   ]
  },
  {
   "cell_type": "markdown",
   "metadata": {},
   "source": [
    "![Example-of-Indexing-Changing.png](image/Example-of-Indexing-Changing.png)"
   ]
  },
  {
   "cell_type": "markdown",
   "metadata": {},
   "source": [
    "In this data set, we can choose the index column to be any of the columns. Like “Item no” and index it."
   ]
  },
  {
   "cell_type": "markdown",
   "metadata": {},
   "source": [
    "![Output-of-Indexing-changing-in-Pandas.png](image/Output-of-Indexing-changing-in-Pandas.png)"
   ]
  },
  {
   "cell_type": "markdown",
   "metadata": {},
   "source": [
    "### 5.5 GroupBy"
   ]
  },
  {
   "cell_type": "markdown",
   "metadata": {},
   "source": [
    "This function has various uses, mostly used to group data together, based on a condition:"
   ]
  },
  {
   "cell_type": "markdown",
   "metadata": {},
   "source": [
    "![Example-of-Pandas-GroupBy.png](image/Example-of-Pandas-GroupBy.png)"
   ]
  },
  {
   "cell_type": "markdown",
   "metadata": {},
   "source": [
    "Using the groupby function, we can group the vegetables and fruits:"
   ]
  },
  {
   "cell_type": "markdown",
   "metadata": {},
   "source": [
    "![Output-of-Pandas-Groupby.png](image/Output-of-Pandas-Groupby.png)"
   ]
  },
  {
   "cell_type": "markdown",
   "metadata": {},
   "source": [
    "### 5.6 Data Munging"
   ]
  },
  {
   "cell_type": "markdown",
   "metadata": {},
   "source": [
    "It helps us to convert data of one form to another. For example: converting a CSV to HTML."
   ]
  },
  {
   "cell_type": "markdown",
   "metadata": {},
   "source": [
    "## 6. Features of Pandas"
   ]
  },
  {
   "cell_type": "markdown",
   "metadata": {},
   "source": [
    "Python Pandas have a lot of features. The most critical ones would be:"
   ]
  },
  {
   "cell_type": "markdown",
   "metadata": {},
   "source": [
    "1. <b>Data manipulation:</b> Pandas provides a lot of functions and features to perform various kinds of operations on datasets.\n",
    "2. <b>Handling Missing Values:</b> Datasets are imperfect and contain a lot of data that is missing. This is handled efficiently by the library.\n",
    "3. <b>File format support:</b> Various forms of files are supported by Pandas for both input and output purposes.\n",
    "4. <b>Data cleaning:</b> Data can be very messy. Pandas provide a variety of tools which help in cleaning up data and make it usable for data analysis.\n",
    "5. <b>Visualize:</b> You can see the results of your data analysis with Pandas, visually. This helps you to understand your results better.\n",
    "6. <b>Python support:</b> Pandas runs alongside Python. Which gives us access to other libraries for Python, like NumPy, SciPy, and MatPlotLib."
   ]
  },
  {
   "cell_type": "markdown",
   "metadata": {},
   "source": [
    "## 7. Application of Pandas"
   ]
  },
  {
   "cell_type": "markdown",
   "metadata": {},
   "source": [
    "### 7.1 Data Analysis"
   ]
  },
  {
   "cell_type": "markdown",
   "metadata": {},
   "source": [
    "It is one of the essential uses of Pandas. The library is capable of handling huge sets of data. It is suitable for analyzing huge amounts of data. The manipulations capabilities allow us to clean and filter data which we can analyze easily. Some sectors which use data analysis with Pandas are:"
   ]
  },
  {
   "cell_type": "markdown",
   "metadata": {},
   "source": [
    "1. <b>Economics:</b> A lot of economics depends on analyzing data and trying to find trends and similarities. Pandas are very helpful in this.\n",
    "\n",
    "2. <b>Statistics:</b> Pandas provides a lot of functions to perform various statistical operations.\n",
    "\n",
    "3. <b>Web–Analytics:</b> Pandas can help to read and analyze the traffic of a website to provide helpful insight and improve the website in various ways."
   ]
  },
  {
   "cell_type": "markdown",
   "metadata": {},
   "source": [
    "### 7.2 Machine Learning"
   ]
  },
  {
   "cell_type": "markdown",
   "metadata": {},
   "source": [
    "It helps to render data for a model to learn and predict results. Without Pandas, machine learning models would not be able to read data efficiently."
   ]
  },
  {
   "cell_type": "markdown",
   "metadata": {},
   "source": [
    "The ability to import data and analyze it is extremely essential. Where it is use-"
   ]
  },
  {
   "cell_type": "markdown",
   "metadata": {},
   "source": [
    "1. <b>Recommendation:</b> Only because of machine learning websites like Netflix and Spotify provide execellent recommendations for their users.\n",
    "2. <b>Finance :</b> Machine Learning can be used to predict stocks. Pandas is used to handle data of previous stock market dealing which help to predict the future dealings.\n",
    "3. <b>Natural Language Processing(NLP):</b> Using machine learning to understand the human language and its intricacies.\n",
    "    \n"
   ]
  },
  {
   "cell_type": "markdown",
   "metadata": {},
   "source": [
    "## 15 Latest Pandas Features – What Makes Python Pandas Unique?"
   ]
  },
  {
   "cell_type": "markdown",
   "metadata": {},
   "source": [
    "![Python-Pandas-Features.jpg](image/Python-Pandas-Features.jpg)"
   ]
  },
  {
   "cell_type": "markdown",
   "metadata": {},
   "source": [
    "#### 1. Handling of data"
   ]
  },
  {
   "cell_type": "markdown",
   "metadata": {},
   "source": [
    "The Pandas library provides a really fast and efficient way to manage and explore data. It does that by providing us with Series and DataFrames, which help us not only to represent data efficiently but also manipulate it in various ways. These features of Pandas is exactly what makes it such an attractive library for data scientists."
   ]
  },
  {
   "cell_type": "markdown",
   "metadata": {},
   "source": [
    "#### 2. Alignment and indexing"
   ]
  },
  {
   "cell_type": "markdown",
   "metadata": {},
   "source": [
    "Having data is useless if you don’t know where it belongs and what it tells us about. Therefore, labeling of data is of utmost importance. Another important factor is an organization, without which data would be impossible to read. These two needs: Organization and labeling of data are perfectly taken care of by the intelligent methods of alignment and indexing, which can be found within Pandas."
   ]
  },
  {
   "cell_type": "markdown",
   "metadata": {},
   "source": [
    "#### 3. Handling missing data"
   ]
  },
  {
   "cell_type": "markdown",
   "metadata": {},
   "source": [
    " Data can be quite confusing to read. But that is not even one of the major problems. Data is very crude in nature and one of the many problems associated with data is the occurrence of missing data or value. Therefore, it is pertinent to handle the missing values properly so that they do not adulterate our study results. Some Pandas features have you covered on this end because handling missing values is integrated within the library."
   ]
  },
  {
   "cell_type": "markdown",
   "metadata": {},
   "source": [
    "#### 4. Cleaning up data"
   ]
  },
  {
   "cell_type": "markdown",
   "metadata": {},
   "source": [
    "Data can be very crude. Therefore it is really messy, so much so that performing any analysis over such data would lead to severely wrong results. Thus it is of extreme importance that we clean our data up, and this Pandas feature is easily provided. They help a lot to not only make the code clean but also tidies up the data so that even the normal eye can decipher parts of the data. The cleaner the data, the better the result."
   ]
  },
  {
   "cell_type": "markdown",
   "metadata": {},
   "source": [
    "#### 5. Input and output tools"
   ]
  },
  {
   "cell_type": "markdown",
   "metadata": {},
   "source": [
    "Pandas provide a wide array of built-in tools for the purpose of reading and writing data. While analyzing you will obviously need to read and write data into data structures, web service, databases, etc. This has been made extremely simple with the help of Pandas’ inbuilt tools. In other languages, it would probably take a lot of code to generate the same results, which would only slow down the process of analyzing."
   ]
  },
  {
   "cell_type": "markdown",
   "metadata": {},
   "source": [
    "#### 6. Multiple file formats supported"
   ]
  },
  {
   "cell_type": "markdown",
   "metadata": {},
   "source": [
    "Data these days can be found in so many different file formats, that it becomes crucial that libraries used for data analysis can read various file formats. Pandas aces this sector with a huge scope of file formats supported. Whether it is a JSON or CSV, Pandas can support it all, including Excel and HDF5. This can be considered as one of the most appealing Python Pandas features."
   ]
  },
  {
   "cell_type": "markdown",
   "metadata": {},
   "source": [
    "#### 7. Merging and joining of datasets"
   ]
  },
  {
   "cell_type": "markdown",
   "metadata": {},
   "source": [
    "While analyzing data we constantly need to merge and join multiple datasets to create a final dataset to be able to properly analyze it. This is important because if the datasets aren’t merged or joined properly, then it is going to affect the results adversely and we do not want that. Pandas can help to merge various datasets, with extreme efficiency so that we don’t face any problems while analyzing the data."
   ]
  },
  {
   "cell_type": "markdown",
   "metadata": {},
   "source": [
    "#### 8. A lot of time series"
   ]
  },
  {
   "cell_type": "markdown",
   "metadata": {},
   "source": [
    "These Pandas features won’t make sense to beginners right away, but they will be of great use in the future. These features include the likes of moving window statistics and frequency conversion. So, as we go deeper into learning Pandas we will see how essential and useful these features are, for a data scientist."
   ]
  },
  {
   "cell_type": "markdown",
   "metadata": {},
   "source": [
    "#### 9. Optimized performance"
   ]
  },
  {
   "cell_type": "markdown",
   "metadata": {},
   "source": [
    "Pandas is said to have a really optimized performance, which makes it really fast and suitable for data science. The critical code for Pandas is written in C or Cython, which makes it extremely responsive and fast."
   ]
  },
  {
   "cell_type": "markdown",
   "metadata": {},
   "source": [
    "#### 10. Python support"
   ]
  },
  {
   "cell_type": "markdown",
   "metadata": {},
   "source": [
    "This feature of Pandas is the deal closer. With an insane amount of helpful libraries at your, disposal Python has become one of the most sought after programming languages for data analysis. Thus Pandas being a part of Python and allowing us to access the other libraries like NumPy and MatPlotLib"
   ]
  },
  {
   "cell_type": "markdown",
   "metadata": {},
   "source": [
    "#### 11. Visualize"
   ]
  },
  {
   "cell_type": "markdown",
   "metadata": {},
   "source": [
    "Visualizing the data is an important part of data science. It is what make the results of the study understandable by human eyes. Pandas have an in-built ability to help you plot your data and see the various kinds of graphs formed. Without visualization, data analysis would make no sense to most of the population."
   ]
  },
  {
   "cell_type": "markdown",
   "metadata": {},
   "source": [
    "#### 12. Grouping"
   ]
  },
  {
   "cell_type": "markdown",
   "metadata": {},
   "source": [
    "Having the ability to separate your data and grouping it according to the criteria you want, is pretty essential. With the help of the features of Pandas like GroupBy, you can split data into categories of your choice, according to the criteria you set. The GroupBy function splits the data, implements a function and then combines the results."
   ]
  },
  {
   "cell_type": "markdown",
   "metadata": {},
   "source": [
    "#### 13. Mask data"
   ]
  },
  {
   "cell_type": "markdown",
   "metadata": {},
   "source": [
    "Sometimes, certain data is not needed for analysis of data and thus it is important that you filter your data according to the things you want from it. Using the mask function in Pandas allows you exactly to do that. It is extremely useful since whenever it finds data which meets the criteria you set for elimination, it turns the data into a missing value."
   ]
  },
  {
   "cell_type": "markdown",
   "metadata": {},
   "source": [
    "#### 14. Unique data"
   ]
  },
  {
   "cell_type": "markdown",
   "metadata": {},
   "source": [
    "Data always has a lot of repetition, therefore it is important that you are able to analyze data which has only unique values. This is present in the Python Pandas features and lets the user see the unique values in the dataset with the function dataset.column.unique(). Where “dataset” and “column” are the names of your dataset and column, respectively."
   ]
  },
  {
   "cell_type": "markdown",
   "metadata": {},
   "source": [
    "#### 15. Perform mathematical operations on the data"
   ]
  },
  {
   "cell_type": "markdown",
   "metadata": {},
   "source": [
    "The apply function in Pandas allows you to implement a mathematical operation on the data. This helps enormously, because sometimes the dataset you have, is just not of the correct order. This will be correct by simply using a mathematical operation on the dataset. This is one of the most attractive features of Pandas."
   ]
  },
  {
   "cell_type": "code",
   "execution_count": null,
   "metadata": {},
   "outputs": [],
   "source": []
  },
  {
   "cell_type": "code",
   "execution_count": null,
   "metadata": {},
   "outputs": [],
   "source": []
  },
  {
   "cell_type": "code",
   "execution_count": null,
   "metadata": {},
   "outputs": [],
   "source": []
  },
  {
   "cell_type": "code",
   "execution_count": null,
   "metadata": {},
   "outputs": [],
   "source": []
  },
  {
   "cell_type": "code",
   "execution_count": null,
   "metadata": {},
   "outputs": [],
   "source": []
  },
  {
   "cell_type": "code",
   "execution_count": null,
   "metadata": {},
   "outputs": [],
   "source": []
  },
  {
   "cell_type": "code",
   "execution_count": null,
   "metadata": {},
   "outputs": [],
   "source": []
  }
 ],
 "metadata": {
  "kernelspec": {
   "display_name": "Python 3",
   "language": "python",
   "name": "python3"
  },
  "language_info": {
   "codemirror_mode": {
    "name": "ipython",
    "version": 3
   },
   "file_extension": ".py",
   "mimetype": "text/x-python",
   "name": "python",
   "nbconvert_exporter": "python",
   "pygments_lexer": "ipython3",
   "version": "3.7.4"
  }
 },
 "nbformat": 4,
 "nbformat_minor": 2
}
