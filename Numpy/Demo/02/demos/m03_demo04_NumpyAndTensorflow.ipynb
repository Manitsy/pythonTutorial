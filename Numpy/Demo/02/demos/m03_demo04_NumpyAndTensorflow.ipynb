{
 "cells": [
  {
   "cell_type": "markdown",
   "metadata": {},
   "source": [
    "#### Install tensorflow package"
   ]
  },
  {
   "cell_type": "code",
   "execution_count": 1,
   "metadata": {},
   "outputs": [
    {
     "name": "stdout",
     "output_type": "stream",
     "text": [
      "Collecting tensorflow\n",
      "\u001b[?25l  Downloading https://files.pythonhosted.org/packages/03/ad/d732a5d9d50bfcd8aeb6e4a266065a8868829388e4e2b529ff689f1fc923/tensorflow-1.8.0-cp36-cp36m-macosx_10_11_x86_64.whl (46.5MB)\n",
      "\u001b[K    100% |████████████████████████████████| 46.5MB 551kB/s ta 0:00:011 8% |██▋                             | 3.7MB 1.9MB/s eta 0:00:23    23% |███████▌                        | 10.9MB 948kB/s eta 0:00:38\n",
      "\u001b[?25hRequirement not upgraded as not directly required: absl-py>=0.1.6 in /Users/kishan/anaconda3/lib/python3.6/site-packages (from tensorflow) (0.1.11)\n",
      "Collecting tensorboard<1.9.0,>=1.8.0 (from tensorflow)\n",
      "\u001b[?25l  Downloading https://files.pythonhosted.org/packages/59/a6/0ae6092b7542cfedba6b2a1c9b8dceaf278238c39484f3ba03b03f07803c/tensorboard-1.8.0-py3-none-any.whl (3.1MB)\n",
      "\u001b[K    100% |████████████████████████████████| 3.1MB 2.9MB/s ta 0:00:01\n",
      "\u001b[?25hRequirement not upgraded as not directly required: numpy>=1.13.3 in /Users/kishan/anaconda3/lib/python3.6/site-packages (from tensorflow) (1.14.2)\n",
      "Requirement not upgraded as not directly required: grpcio>=1.8.6 in /Users/kishan/anaconda3/lib/python3.6/site-packages (from tensorflow) (1.10.0)\n",
      "Requirement not upgraded as not directly required: termcolor>=1.1.0 in /Users/kishan/anaconda3/lib/python3.6/site-packages (from tensorflow) (1.1.0)\n",
      "Requirement not upgraded as not directly required: wheel>=0.26 in /Users/kishan/anaconda3/lib/python3.6/site-packages (from tensorflow) (0.30.0)\n",
      "Requirement not upgraded as not directly required: six>=1.10.0 in /Users/kishan/anaconda3/lib/python3.6/site-packages (from tensorflow) (1.11.0)\n",
      "Requirement not upgraded as not directly required: astor>=0.6.0 in /Users/kishan/anaconda3/lib/python3.6/site-packages (from tensorflow) (0.6.2)\n",
      "Requirement not upgraded as not directly required: gast>=0.2.0 in /Users/kishan/anaconda3/lib/python3.6/site-packages (from tensorflow) (0.2.0)\n",
      "Requirement not upgraded as not directly required: protobuf>=3.4.0 in /Users/kishan/anaconda3/lib/python3.6/site-packages (from tensorflow) (3.5.2.post1)\n",
      "Requirement not upgraded as not directly required: bleach==1.5.0 in /Users/kishan/anaconda3/lib/python3.6/site-packages (from tensorboard<1.9.0,>=1.8.0->tensorflow) (1.5.0)\n",
      "Requirement not upgraded as not directly required: html5lib==0.9999999 in /Users/kishan/anaconda3/lib/python3.6/site-packages (from tensorboard<1.9.0,>=1.8.0->tensorflow) (0.9999999)\n",
      "Requirement not upgraded as not directly required: werkzeug>=0.11.10 in /Users/kishan/anaconda3/lib/python3.6/site-packages (from tensorboard<1.9.0,>=1.8.0->tensorflow) (0.14.1)\n",
      "Requirement not upgraded as not directly required: markdown>=2.6.8 in /Users/kishan/anaconda3/lib/python3.6/site-packages (from tensorboard<1.9.0,>=1.8.0->tensorflow) (2.6.11)\n",
      "Requirement not upgraded as not directly required: setuptools in /Users/kishan/anaconda3/lib/python3.6/site-packages (from protobuf>=3.4.0->tensorflow) (39.0.0)\n",
      "Installing collected packages: tensorboard, tensorflow\n",
      "  Found existing installation: tensorboard 1.6.0\n",
      "    Uninstalling tensorboard-1.6.0:\n",
      "      Successfully uninstalled tensorboard-1.6.0\n",
      "  Found existing installation: tensorflow 1.6.0\n",
      "    Uninstalling tensorflow-1.6.0:\n",
      "      Successfully uninstalled tensorflow-1.6.0\n",
      "Successfully installed tensorboard-1.8.0 tensorflow-1.8.0\n"
     ]
    }
   ],
   "source": [
    "!pip install tensorflow --upgrade"
   ]
  },
  {
   "cell_type": "markdown",
   "metadata": {},
   "source": [
    "#### Upgrade dask package\n",
    "This is to prevent a pandas error when working with tensorflow"
   ]
  },
  {
   "cell_type": "code",
   "execution_count": 3,
   "metadata": {},
   "outputs": [
    {
     "name": "stdout",
     "output_type": "stream",
     "text": [
      "Requirement already up-to-date: dask in /Users/kishan/anaconda3/lib/python3.6/site-packages (0.17.4)\r\n"
     ]
    }
   ],
   "source": [
    "!pip install dask --upgrade"
   ]
  },
  {
   "cell_type": "code",
   "execution_count": 2,
   "metadata": {},
   "outputs": [
    {
     "name": "stderr",
     "output_type": "stream",
     "text": [
      "/Users/kishan/anaconda3/lib/python3.6/site-packages/h5py/__init__.py:34: FutureWarning: Conversion of the second argument of issubdtype from `float` to `np.floating` is deprecated. In future, it will be treated as `np.float64 == np.dtype(float).type`.\n",
      "  from ._conv import register_converters as _register_converters\n"
     ]
    }
   ],
   "source": [
    "import numpy as np\n",
    "import tensorflow as tf"
   ]
  },
  {
   "cell_type": "markdown",
   "metadata": {},
   "source": [
    "### Import MNIST data"
   ]
  },
  {
   "cell_type": "code",
   "execution_count": 4,
   "metadata": {
    "collapsed": true
   },
   "outputs": [],
   "source": [
    "from tensorflow.examples.tutorials.mnist import input_data"
   ]
  },
  {
   "cell_type": "code",
   "execution_count": 5,
   "metadata": {},
   "outputs": [
    {
     "name": "stdout",
     "output_type": "stream",
     "text": [
      "Extracting data/mnist_data/train-images-idx3-ubyte.gz\n",
      "Extracting data/mnist_data/train-labels-idx1-ubyte.gz\n",
      "Extracting data/mnist_data/t10k-images-idx3-ubyte.gz\n",
      "Extracting data/mnist_data/t10k-labels-idx1-ubyte.gz\n"
     ]
    }
   ],
   "source": [
    "# Store the MNIST data in /tmp/data\n",
    "mnist = input_data.read_data_sets(\"data/mnist_data/\", one_hot=True)"
   ]
  },
  {
   "cell_type": "code",
   "execution_count": 6,
   "metadata": {
    "collapsed": true
   },
   "outputs": [],
   "source": [
    "training_digits, training_labels = mnist.train.next_batch(5000)"
   ]
  },
  {
   "cell_type": "code",
   "execution_count": 7,
   "metadata": {},
   "outputs": [
    {
     "data": {
      "text/plain": [
       "array([[0., 0., 0., ..., 0., 0., 0.],\n",
       "       [0., 0., 0., ..., 0., 0., 0.],\n",
       "       [0., 0., 0., ..., 0., 0., 0.],\n",
       "       ...,\n",
       "       [0., 0., 0., ..., 0., 0., 0.],\n",
       "       [0., 0., 0., ..., 0., 0., 0.],\n",
       "       [0., 0., 0., ..., 0., 0., 0.]], dtype=float32)"
      ]
     },
     "execution_count": 7,
     "metadata": {},
     "output_type": "execute_result"
    }
   ],
   "source": [
    "training_digits"
   ]
  },
  {
   "cell_type": "code",
   "execution_count": 8,
   "metadata": {},
   "outputs": [
    {
     "data": {
      "text/plain": [
       "(5000, 784)"
      ]
     },
     "execution_count": 8,
     "metadata": {},
     "output_type": "execute_result"
    }
   ],
   "source": [
    "training_digits.shape"
   ]
  },
  {
   "cell_type": "code",
   "execution_count": 9,
   "metadata": {},
   "outputs": [
    {
     "data": {
      "text/plain": [
       "array([[0., 0., 1., ..., 0., 0., 0.],\n",
       "       [0., 0., 0., ..., 0., 0., 0.],\n",
       "       [0., 1., 0., ..., 0., 0., 0.],\n",
       "       ...,\n",
       "       [0., 1., 0., ..., 0., 0., 0.],\n",
       "       [0., 0., 0., ..., 0., 0., 0.],\n",
       "       [0., 0., 0., ..., 0., 1., 0.]])"
      ]
     },
     "execution_count": 9,
     "metadata": {},
     "output_type": "execute_result"
    }
   ],
   "source": [
    "training_labels"
   ]
  },
  {
   "cell_type": "markdown",
   "metadata": {},
   "source": [
    "#### Effect of one-hot-encoding\n",
    "The label comprises 10 'columns', one for each digit <br />\n",
    "The column corresponding to the digit has a value of 1"
   ]
  },
  {
   "cell_type": "code",
   "execution_count": 10,
   "metadata": {},
   "outputs": [
    {
     "data": {
      "text/plain": [
       "(5000, 10)"
      ]
     },
     "execution_count": 10,
     "metadata": {},
     "output_type": "execute_result"
    }
   ],
   "source": [
    "training_labels.shape"
   ]
  },
  {
   "cell_type": "code",
   "execution_count": 11,
   "metadata": {
    "collapsed": true
   },
   "outputs": [],
   "source": [
    "test_digits, test_labels = mnist.test.next_batch(200)"
   ]
  },
  {
   "cell_type": "markdown",
   "metadata": {},
   "source": [
    "### Using numpy "
   ]
  },
  {
   "cell_type": "code",
   "execution_count": 12,
   "metadata": {},
   "outputs": [
    {
     "data": {
      "text/plain": [
       "(5000, 784)"
      ]
     },
     "execution_count": 12,
     "metadata": {},
     "output_type": "execute_result"
    }
   ],
   "source": [
    "training_digits.shape"
   ]
  },
  {
   "cell_type": "code",
   "execution_count": 13,
   "metadata": {
    "collapsed": true
   },
   "outputs": [],
   "source": [
    "reshaped_training_digits = training_digits.reshape(5000, 28, 28)"
   ]
  },
  {
   "cell_type": "code",
   "execution_count": 14,
   "metadata": {},
   "outputs": [
    {
     "data": {
      "text/plain": [
       "(5000, 28, 28)"
      ]
     },
     "execution_count": 14,
     "metadata": {},
     "output_type": "execute_result"
    }
   ],
   "source": [
    "reshaped_training_digits.shape"
   ]
  },
  {
   "cell_type": "markdown",
   "metadata": {},
   "source": [
    "#### Write a function to crop out edges from a given list of images\n",
    "The specified number of pixels will be cropped off the edges of each image in the given list"
   ]
  },
  {
   "cell_type": "code",
   "execution_count": 15,
   "metadata": {
    "collapsed": true
   },
   "outputs": [],
   "source": [
    "def crop_edges(images, cropx, cropy):\n",
    "    \n",
    "    c, x, y = images.shape\n",
    "    \n",
    "    startx = x//2 - cropx//2\n",
    "    starty = y//2 - cropy//2    \n",
    "    \n",
    "    return images[:, startx:startx + cropx, starty:starty + cropy]"
   ]
  },
  {
   "cell_type": "code",
   "execution_count": 16,
   "metadata": {},
   "outputs": [
    {
     "data": {
      "text/plain": [
       "(5000, 28, 28)"
      ]
     },
     "execution_count": 16,
     "metadata": {},
     "output_type": "execute_result"
    }
   ],
   "source": [
    "reshaped_training_digits.shape"
   ]
  },
  {
   "cell_type": "code",
   "execution_count": 17,
   "metadata": {},
   "outputs": [
    {
     "data": {
      "text/plain": [
       "(5000, 24, 24)"
      ]
     },
     "execution_count": 17,
     "metadata": {},
     "output_type": "execute_result"
    }
   ],
   "source": [
    "crop_edges(reshaped_training_digits,24,24).shape"
   ]
  },
  {
   "cell_type": "code",
   "execution_count": 18,
   "metadata": {
    "collapsed": true
   },
   "outputs": [],
   "source": [
    "cropped_training_digits = crop_edges(reshaped_training_digits,24,24)"
   ]
  },
  {
   "cell_type": "code",
   "execution_count": 19,
   "metadata": {
    "collapsed": true
   },
   "outputs": [],
   "source": [
    "cropped_training_digits = cropped_training_digits.reshape(5000,576)"
   ]
  },
  {
   "cell_type": "code",
   "execution_count": 20,
   "metadata": {},
   "outputs": [
    {
     "data": {
      "text/plain": [
       "(5000, 576)"
      ]
     },
     "execution_count": 20,
     "metadata": {},
     "output_type": "execute_result"
    }
   ],
   "source": [
    "cropped_training_digits.shape"
   ]
  },
  {
   "cell_type": "code",
   "execution_count": 21,
   "metadata": {},
   "outputs": [
    {
     "data": {
      "text/plain": [
       "(200, 784)"
      ]
     },
     "execution_count": 21,
     "metadata": {},
     "output_type": "execute_result"
    }
   ],
   "source": [
    "test_digits.shape"
   ]
  },
  {
   "cell_type": "code",
   "execution_count": 22,
   "metadata": {
    "collapsed": true
   },
   "outputs": [],
   "source": [
    "reshaped_test_digits = test_digits.reshape(200,28,28)"
   ]
  },
  {
   "cell_type": "code",
   "execution_count": 23,
   "metadata": {},
   "outputs": [
    {
     "data": {
      "text/plain": [
       "(200, 28, 28)"
      ]
     },
     "execution_count": 23,
     "metadata": {},
     "output_type": "execute_result"
    }
   ],
   "source": [
    "reshaped_test_digits.shape"
   ]
  },
  {
   "cell_type": "code",
   "execution_count": 24,
   "metadata": {
    "collapsed": true
   },
   "outputs": [],
   "source": [
    "cropped_test_digits = crop_edges(reshaped_test_digits,24,24)"
   ]
  },
  {
   "cell_type": "code",
   "execution_count": 25,
   "metadata": {},
   "outputs": [
    {
     "data": {
      "text/plain": [
       "(200, 24, 24)"
      ]
     },
     "execution_count": 25,
     "metadata": {},
     "output_type": "execute_result"
    }
   ],
   "source": [
    "cropped_test_digits.shape"
   ]
  },
  {
   "cell_type": "code",
   "execution_count": 26,
   "metadata": {
    "collapsed": true
   },
   "outputs": [],
   "source": [
    "cropped_test_digits = cropped_test_digits.reshape(200,576)"
   ]
  },
  {
   "cell_type": "code",
   "execution_count": 27,
   "metadata": {},
   "outputs": [
    {
     "data": {
      "text/plain": [
       "(200, 576)"
      ]
     },
     "execution_count": 27,
     "metadata": {},
     "output_type": "execute_result"
    }
   ],
   "source": [
    "cropped_test_digits.shape"
   ]
  },
  {
   "cell_type": "markdown",
   "metadata": {},
   "source": [
    "### End of numpy reshaping"
   ]
  },
  {
   "cell_type": "code",
   "execution_count": 28,
   "metadata": {
    "collapsed": true
   },
   "outputs": [],
   "source": [
    "training_digits_pl = tf.placeholder(\"float\", [None, 784])"
   ]
  },
  {
   "cell_type": "code",
   "execution_count": 29,
   "metadata": {
    "collapsed": true
   },
   "outputs": [],
   "source": [
    "cropped_training_digits_pl = tf.placeholder(\"float\", [None, 576])"
   ]
  },
  {
   "cell_type": "code",
   "execution_count": 30,
   "metadata": {
    "collapsed": true
   },
   "outputs": [],
   "source": [
    "test_digit_pl = tf.placeholder(\"float\", [784])"
   ]
  },
  {
   "cell_type": "code",
   "execution_count": 31,
   "metadata": {
    "collapsed": true
   },
   "outputs": [],
   "source": [
    "cropped_test_digit_pl = tf.placeholder(\"float\", [576])"
   ]
  },
  {
   "cell_type": "markdown",
   "metadata": {},
   "source": [
    "#### Nearest Neighbor calculation using L1 distance"
   ]
  },
  {
   "cell_type": "code",
   "execution_count": 32,
   "metadata": {
    "collapsed": true
   },
   "outputs": [],
   "source": [
    "l1_distance = tf.abs(tf.add(training_digits_pl, \n",
    "                            tf.negative(test_digit_pl)))"
   ]
  },
  {
   "cell_type": "code",
   "execution_count": 33,
   "metadata": {
    "collapsed": true
   },
   "outputs": [],
   "source": [
    "distance = tf.reduce_sum(l1_distance, axis=1)"
   ]
  },
  {
   "cell_type": "code",
   "execution_count": 34,
   "metadata": {},
   "outputs": [
    {
     "name": "stdout",
     "output_type": "stream",
     "text": [
      "WARNING:tensorflow:From <ipython-input-34-951a4a3ccf1e>:2: arg_min (from tensorflow.python.ops.gen_math_ops) is deprecated and will be removed in a future version.\n",
      "Instructions for updating:\n",
      "Use `argmin` instead\n"
     ]
    }
   ],
   "source": [
    "# Prediction: Get min distance index (Nearest neighbor)\n",
    "pred = tf.arg_min(distance, 0)"
   ]
  },
  {
   "cell_type": "code",
   "execution_count": 35,
   "metadata": {
    "collapsed": true
   },
   "outputs": [],
   "source": [
    "accuracy = 0."
   ]
  },
  {
   "cell_type": "code",
   "execution_count": 36,
   "metadata": {},
   "outputs": [
    {
     "name": "stdout",
     "output_type": "stream",
     "text": [
      "Test: 0 Prediction: 9 True Label: 9\n",
      "Test: 1 Prediction: 5 True Label: 5\n",
      "Test: 2 Prediction: 5 True Label: 5\n",
      "Test: 3 Prediction: 3 True Label: 3\n",
      "Test: 4 Prediction: 1 True Label: 1\n",
      "Test: 5 Prediction: 5 True Label: 5\n",
      "Test: 6 Prediction: 8 True Label: 8\n",
      "Test: 7 Prediction: 4 True Label: 4\n",
      "Test: 8 Prediction: 5 True Label: 5\n",
      "Test: 9 Prediction: 6 True Label: 6\n",
      "Test: 10 Prediction: 0 True Label: 0\n",
      "Test: 11 Prediction: 2 True Label: 2\n",
      "Test: 12 Prediction: 8 True Label: 8\n",
      "Test: 13 Prediction: 2 True Label: 2\n",
      "Test: 14 Prediction: 1 True Label: 1\n",
      "Test: 15 Prediction: 1 True Label: 1\n",
      "Test: 16 Prediction: 9 True Label: 9\n",
      "Test: 17 Prediction: 2 True Label: 2\n",
      "Test: 18 Prediction: 3 True Label: 3\n",
      "Test: 19 Prediction: 6 True Label: 6\n",
      "Test: 20 Prediction: 4 True Label: 4\n",
      "Test: 21 Prediction: 8 True Label: 8\n",
      "Test: 22 Prediction: 3 True Label: 3\n",
      "Test: 23 Prediction: 2 True Label: 2\n",
      "Test: 24 Prediction: 0 True Label: 0\n",
      "Test: 25 Prediction: 1 True Label: 1\n",
      "Test: 26 Prediction: 0 True Label: 0\n",
      "Test: 27 Prediction: 9 True Label: 9\n",
      "Test: 28 Prediction: 7 True Label: 7\n",
      "Test: 29 Prediction: 4 True Label: 4\n",
      "Test: 30 Prediction: 1 True Label: 1\n",
      "Test: 31 Prediction: 7 True Label: 7\n",
      "Test: 32 Prediction: 8 True Label: 8\n",
      "Test: 33 Prediction: 5 True Label: 5\n",
      "Test: 34 Prediction: 8 True Label: 8\n",
      "Test: 35 Prediction: 8 True Label: 8\n",
      "Test: 36 Prediction: 8 True Label: 3\n",
      "Test: 37 Prediction: 6 True Label: 6\n",
      "Test: 38 Prediction: 9 True Label: 9\n",
      "Test: 39 Prediction: 6 True Label: 6\n",
      "Test: 40 Prediction: 1 True Label: 3\n",
      "Test: 41 Prediction: 7 True Label: 7\n",
      "Test: 42 Prediction: 8 True Label: 8\n",
      "Test: 43 Prediction: 3 True Label: 3\n",
      "Test: 44 Prediction: 4 True Label: 4\n",
      "Test: 45 Prediction: 4 True Label: 4\n",
      "Test: 46 Prediction: 3 True Label: 3\n",
      "Test: 47 Prediction: 5 True Label: 5\n",
      "Test: 48 Prediction: 6 True Label: 6\n",
      "Test: 49 Prediction: 7 True Label: 7\n",
      "Test: 50 Prediction: 8 True Label: 8\n",
      "Test: 51 Prediction: 7 True Label: 7\n",
      "Test: 52 Prediction: 2 True Label: 2\n",
      "Test: 53 Prediction: 0 True Label: 0\n",
      "Test: 54 Prediction: 3 True Label: 3\n",
      "Test: 55 Prediction: 3 True Label: 3\n",
      "Test: 56 Prediction: 0 True Label: 0\n",
      "Test: 57 Prediction: 8 True Label: 8\n",
      "Test: 58 Prediction: 2 True Label: 2\n",
      "Test: 59 Prediction: 1 True Label: 1\n",
      "Test: 60 Prediction: 2 True Label: 2\n",
      "Test: 61 Prediction: 2 True Label: 2\n",
      "Test: 62 Prediction: 4 True Label: 4\n",
      "Test: 63 Prediction: 0 True Label: 5\n",
      "Test: 64 Prediction: 8 True Label: 8\n",
      "Test: 65 Prediction: 8 True Label: 3\n",
      "Test: 66 Prediction: 9 True Label: 9\n",
      "Test: 67 Prediction: 3 True Label: 3\n",
      "Test: 68 Prediction: 3 True Label: 3\n",
      "Test: 69 Prediction: 6 True Label: 6\n",
      "Test: 70 Prediction: 6 True Label: 6\n",
      "Test: 71 Prediction: 2 True Label: 2\n",
      "Test: 72 Prediction: 0 True Label: 0\n",
      "Test: 73 Prediction: 6 True Label: 6\n",
      "Test: 74 Prediction: 6 True Label: 6\n",
      "Test: 75 Prediction: 7 True Label: 7\n",
      "Test: 76 Prediction: 2 True Label: 2\n",
      "Test: 77 Prediction: 4 True Label: 9\n",
      "Test: 78 Prediction: 1 True Label: 1\n",
      "Test: 79 Prediction: 8 True Label: 8\n",
      "Test: 80 Prediction: 6 True Label: 6\n",
      "Test: 81 Prediction: 1 True Label: 1\n",
      "Test: 82 Prediction: 0 True Label: 0\n",
      "Test: 83 Prediction: 1 True Label: 1\n",
      "Test: 84 Prediction: 3 True Label: 3\n",
      "Test: 85 Prediction: 3 True Label: 3\n",
      "Test: 86 Prediction: 4 True Label: 4\n",
      "Test: 87 Prediction: 0 True Label: 0\n",
      "Test: 88 Prediction: 6 True Label: 6\n",
      "Test: 89 Prediction: 6 True Label: 6\n",
      "Test: 90 Prediction: 9 True Label: 9\n",
      "Test: 91 Prediction: 6 True Label: 6\n",
      "Test: 92 Prediction: 5 True Label: 5\n",
      "Test: 93 Prediction: 8 True Label: 8\n",
      "Test: 94 Prediction: 1 True Label: 1\n",
      "Test: 95 Prediction: 1 True Label: 2\n",
      "Test: 96 Prediction: 5 True Label: 5\n",
      "Test: 97 Prediction: 7 True Label: 7\n",
      "Test: 98 Prediction: 1 True Label: 1\n",
      "Test: 99 Prediction: 7 True Label: 7\n",
      "Test: 100 Prediction: 3 True Label: 3\n",
      "Test: 101 Prediction: 3 True Label: 3\n",
      "Test: 102 Prediction: 2 True Label: 2\n",
      "Test: 103 Prediction: 2 True Label: 2\n",
      "Test: 104 Prediction: 1 True Label: 1\n",
      "Test: 105 Prediction: 2 True Label: 2\n",
      "Test: 106 Prediction: 5 True Label: 5\n",
      "Test: 107 Prediction: 2 True Label: 2\n",
      "Test: 108 Prediction: 1 True Label: 1\n",
      "Test: 109 Prediction: 0 True Label: 0\n",
      "Test: 110 Prediction: 6 True Label: 8\n",
      "Test: 111 Prediction: 0 True Label: 0\n",
      "Test: 112 Prediction: 7 True Label: 7\n",
      "Test: 113 Prediction: 0 True Label: 0\n",
      "Test: 114 Prediction: 5 True Label: 5\n",
      "Test: 115 Prediction: 8 True Label: 8\n",
      "Test: 116 Prediction: 9 True Label: 9\n",
      "Test: 117 Prediction: 5 True Label: 5\n",
      "Test: 118 Prediction: 2 True Label: 2\n",
      "Test: 119 Prediction: 7 True Label: 7\n",
      "Test: 120 Prediction: 2 True Label: 2\n",
      "Test: 121 Prediction: 4 True Label: 9\n",
      "Test: 122 Prediction: 3 True Label: 3\n",
      "Test: 123 Prediction: 2 True Label: 2\n",
      "Test: 124 Prediction: 5 True Label: 5\n",
      "Test: 125 Prediction: 0 True Label: 0\n",
      "Test: 126 Prediction: 4 True Label: 4\n",
      "Test: 127 Prediction: 5 True Label: 5\n",
      "Test: 128 Prediction: 5 True Label: 5\n",
      "Test: 129 Prediction: 9 True Label: 9\n",
      "Test: 130 Prediction: 4 True Label: 6\n",
      "Test: 131 Prediction: 3 True Label: 3\n",
      "Test: 132 Prediction: 3 True Label: 3\n",
      "Test: 133 Prediction: 3 True Label: 3\n",
      "Test: 134 Prediction: 5 True Label: 5\n",
      "Test: 135 Prediction: 3 True Label: 3\n",
      "Test: 136 Prediction: 0 True Label: 0\n",
      "Test: 137 Prediction: 9 True Label: 7\n",
      "Test: 138 Prediction: 3 True Label: 3\n",
      "Test: 139 Prediction: 1 True Label: 1\n",
      "Test: 140 Prediction: 9 True Label: 9\n",
      "Test: 141 Prediction: 4 True Label: 4\n",
      "Test: 142 Prediction: 2 True Label: 2\n",
      "Test: 143 Prediction: 4 True Label: 4\n",
      "Test: 144 Prediction: 7 True Label: 7\n",
      "Test: 145 Prediction: 0 True Label: 0\n",
      "Test: 146 Prediction: 3 True Label: 3\n",
      "Test: 147 Prediction: 3 True Label: 3\n",
      "Test: 148 Prediction: 7 True Label: 7\n",
      "Test: 149 Prediction: 4 True Label: 4\n",
      "Test: 150 Prediction: 5 True Label: 5\n",
      "Test: 151 Prediction: 0 True Label: 0\n",
      "Test: 152 Prediction: 3 True Label: 3\n",
      "Test: 153 Prediction: 6 True Label: 6\n",
      "Test: 154 Prediction: 7 True Label: 7\n",
      "Test: 155 Prediction: 2 True Label: 2\n",
      "Test: 156 Prediction: 6 True Label: 6\n",
      "Test: 157 Prediction: 6 True Label: 6\n",
      "Test: 158 Prediction: 7 True Label: 7\n",
      "Test: 159 Prediction: 5 True Label: 5\n",
      "Test: 160 Prediction: 4 True Label: 4\n",
      "Test: 161 Prediction: 7 True Label: 7\n",
      "Test: 162 Prediction: 3 True Label: 3\n",
      "Test: 163 Prediction: 8 True Label: 8\n",
      "Test: 164 Prediction: 9 True Label: 9\n",
      "Test: 165 Prediction: 3 True Label: 2\n",
      "Test: 166 Prediction: 8 True Label: 8\n",
      "Test: 167 Prediction: 0 True Label: 0\n",
      "Test: 168 Prediction: 4 True Label: 2\n",
      "Test: 169 Prediction: 6 True Label: 6\n",
      "Test: 170 Prediction: 6 True Label: 6\n",
      "Test: 171 Prediction: 0 True Label: 0\n",
      "Test: 172 Prediction: 1 True Label: 1\n",
      "Test: 173 Prediction: 3 True Label: 3\n",
      "Test: 174 Prediction: 8 True Label: 8\n",
      "Test: 175 Prediction: 5 True Label: 5\n",
      "Test: 176 Prediction: 8 True Label: 8\n",
      "Test: 177 Prediction: 4 True Label: 4\n",
      "Test: 178 Prediction: 1 True Label: 1\n",
      "Test: 179 Prediction: 5 True Label: 5\n",
      "Test: 180 Prediction: 1 True Label: 2\n",
      "Test: 181 Prediction: 1 True Label: 1\n",
      "Test: 182 Prediction: 0 True Label: 0\n",
      "Test: 183 Prediction: 3 True Label: 3\n",
      "Test: 184 Prediction: 5 True Label: 5\n",
      "Test: 185 Prediction: 4 True Label: 4\n",
      "Test: 186 Prediction: 5 True Label: 5\n",
      "Test: 187 Prediction: 3 True Label: 3\n",
      "Test: 188 Prediction: 5 True Label: 5\n",
      "Test: 189 Prediction: 7 True Label: 7\n",
      "Test: 190 Prediction: 4 True Label: 4\n",
      "Test: 191 Prediction: 4 True Label: 4\n",
      "Test: 192 Prediction: 7 True Label: 7\n",
      "Test: 193 Prediction: 5 True Label: 5\n",
      "Test: 194 Prediction: 1 True Label: 7\n",
      "Test: 195 Prediction: 0 True Label: 8\n",
      "Test: 196 Prediction: 4 True Label: 4\n",
      "Test: 197 Prediction: 4 True Label: 4\n",
      "Test: 198 Prediction: 7 True Label: 7\n",
      "Test: 199 Prediction: 2 True Label: 2\n",
      "Done!\n",
      "Accuracy: 0.9250000000000007\n"
     ]
    }
   ],
   "source": [
    "# Initializing the variables\n",
    "init = tf.global_variables_initializer()\n",
    "\n",
    "with tf.Session() as sess:\n",
    "    sess.run(init)\n",
    "\n",
    "    # loop over test data\n",
    "    for i in range(len(test_digits)):\n",
    "        # Get nearest neighbor\n",
    "        nn_index = sess.run(pred, \\\n",
    "        \tfeed_dict={training_digits_pl: training_digits, \n",
    "                       test_digit_pl: test_digits[i, :]})\n",
    "\n",
    "        # Get nearest neighbor class label and compare it to its true label\n",
    "        print(\"Test:\", i, \n",
    "              \"Prediction:\", np.argmax(training_labels[nn_index]),\n",
    "              \"True Label:\", np.argmax(test_labels[i]))\n",
    "\n",
    "        # Calculate accuracy\n",
    "        if np.argmax(training_labels[nn_index]) == np.argmax(test_labels[i]):\n",
    "            accuracy += 1./len(test_digits)\n",
    "\n",
    "    print(\"Done!\")\n",
    "    print(\"Accuracy:\", accuracy)"
   ]
  },
  {
   "cell_type": "code",
   "execution_count": null,
   "metadata": {
    "collapsed": true
   },
   "outputs": [],
   "source": []
  }
 ],
 "metadata": {
  "kernelspec": {
   "display_name": "Python 3",
   "language": "python",
   "name": "python3"
  },
  "language_info": {
   "codemirror_mode": {
    "name": "ipython",
    "version": 3
   },
   "file_extension": ".py",
   "mimetype": "text/x-python",
   "name": "python",
   "nbconvert_exporter": "python",
   "pygments_lexer": "ipython3",
   "version": "3.6.3"
  }
 },
 "nbformat": 4,
 "nbformat_minor": 2
}
